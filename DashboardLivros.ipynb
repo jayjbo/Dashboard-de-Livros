{
 "cells": [
  {
   "cell_type": "code",
   "execution_count": 15,
   "id": "790cc93f-a3bf-4d7d-863d-36140ef9465f",
   "metadata": {},
   "outputs": [],
   "source": [
    "import requests #usada para fazer requisições HTTP e fazer buscas no google api\n",
    "import pandas as pd #usar e manipular dados em forma de tabela = dataframe"
   ]
  },
  {
   "cell_type": "code",
   "execution_count": 26,
   "id": "6e3c6522-332a-44c5-9b0b-5e4c93b769ac",
   "metadata": {},
   "outputs": [
    {
     "data": {
      "text/html": [
       "<div>\n",
       "<style scoped>\n",
       "    .dataframe tbody tr th:only-of-type {\n",
       "        vertical-align: middle;\n",
       "    }\n",
       "\n",
       "    .dataframe tbody tr th {\n",
       "        vertical-align: top;\n",
       "    }\n",
       "\n",
       "    .dataframe thead th {\n",
       "        text-align: right;\n",
       "    }\n",
       "</style>\n",
       "<table border=\"1\" class=\"dataframe\">\n",
       "  <thead>\n",
       "    <tr style=\"text-align: right;\">\n",
       "      <th></th>\n",
       "      <th>Título</th>\n",
       "      <th>Gênero</th>\n",
       "      <th>Autor</th>\n",
       "    </tr>\n",
       "  </thead>\n",
       "  <tbody>\n",
       "    <tr>\n",
       "      <th>0</th>\n",
       "      <td>Future Shock</td>\n",
       "      <td>Fiction</td>\n",
       "      <td>Alvin Toffler</td>\n",
       "    </tr>\n",
       "    <tr>\n",
       "      <th>1</th>\n",
       "      <td>Ready Player Two</td>\n",
       "      <td>Fiction</td>\n",
       "      <td>Ernest Cline</td>\n",
       "    </tr>\n",
       "    <tr>\n",
       "      <th>2</th>\n",
       "      <td>Bag of Bones</td>\n",
       "      <td>Fiction</td>\n",
       "      <td>Stephen King</td>\n",
       "    </tr>\n",
       "    <tr>\n",
       "      <th>3</th>\n",
       "      <td>Journey to the Center of the Earth</td>\n",
       "      <td>Fiction</td>\n",
       "      <td>Jules Verne</td>\n",
       "    </tr>\n",
       "    <tr>\n",
       "      <th>4</th>\n",
       "      <td>How to Stop Time</td>\n",
       "      <td>Fiction</td>\n",
       "      <td>Matt Haig</td>\n",
       "    </tr>\n",
       "  </tbody>\n",
       "</table>\n",
       "</div>"
      ],
      "text/plain": [
       "                               Título   Gênero          Autor\n",
       "0                        Future Shock  Fiction  Alvin Toffler\n",
       "1                    Ready Player Two  Fiction   Ernest Cline\n",
       "2                        Bag of Bones  Fiction   Stephen King\n",
       "3  Journey to the Center of the Earth  Fiction    Jules Verne\n",
       "4                    How to Stop Time  Fiction      Matt Haig"
      ]
     },
     "execution_count": 26,
     "metadata": {},
     "output_type": "execute_result"
    }
   ],
   "source": [
    "generos = [\"fiction\", \"fantasy\", \"romance\", \"horror\", \"mystery\"] #lista de generos para a busca\n",
    "livros_encontrados = [] #lista vazia para adicionar os livros encontrados\n",
    "for genero in generos:\n",
    "    url = f\"https://www.googleapis.com/books/v1/volumes?q=subject:{genero}&maxResults=10\"\n",
    "    response = requests.get(url)\n",
    "    data = response.json()\n",
    "\n",
    "    for x in data.get(\"items\", []): #pega a lista de livros retornada, se sem result [] volta vazio para evitar problemas\n",
    "        volume_info = x.get(\"volumeInfo\", {}) #Cada livro tem um dicionário chamado \"volumeInfo\", que contém detalhes como título e autor.\n",
    "        titulo = volume_info.get(\"title\", \"Desconhecido\")\n",
    "        autor = \", \".join(volume_info.get(\"authors\", [\"Desconhecido\"])) #\", \".join(...) converte a lista em uma string separada por vírgulas.\n",
    "\n",
    "        livros_encontrados.append({\"Título\": titulo, \"Gênero\": genero.capitalize(), \"Autor\": autor})\n",
    "        # Criamos um dicionário com as informações do livro. genero.capitalize(): Converte o nome do gênero para começar com letra maiúscula.\n",
    "\n",
    "df = pd.DataFrame(livros_encontrados) # Convertendo a lista dados para um DataFrame Pandas para análise e visualização.\n",
    "df.head()"
   ]
  },
  {
   "cell_type": "code",
   "execution_count": 17,
   "id": "3c6ae0eb-3354-48ed-99ed-6193315ba6e5",
   "metadata": {},
   "outputs": [],
   "source": [
    "from jupyter_dash import JupyterDash #roda dash no jupyter\n",
    "import dash #cria dashboard interativos\n",
    "from dash import dcc, html #dcc (Dash Core Components): Contém gráficos, dropdowns e outros componentes interativos.\n",
    "import plotly.express as px #Biblioteca usada para criar gráficos interativos.\n",
    "from dash.dependencies import Input, Output #criar interatividade no dashboard."
   ]
  },
  {
   "cell_type": "code",
   "execution_count": 18,
   "id": "47a7523a-1ea0-467a-9e01-ceb8c5e434a2",
   "metadata": {},
   "outputs": [],
   "source": [
    "app = dash.Dash(__name__) #cria app usando diretamente o dash, sera respondavel por rodar o dashboard no jupyter"
   ]
  },
  {
   "cell_type": "code",
   "execution_count": 19,
   "id": "7c297d6d-7e90-44ea-9101-73d7b8fff25a",
   "metadata": {
    "scrolled": true
   },
   "outputs": [
    {
     "name": "stdout",
     "output_type": "stream",
     "text": [
      "    Gênero  Quantidade\n",
      "0  Fiction          10\n",
      "1  Fantasy          10\n",
      "2  Romance          10\n",
      "3   Horror          10\n",
      "4  Mystery          10\n"
     ]
    }
   ],
   "source": [
    "#pegamos a coluna genero do primeiro dataframe e contamos quantos livros tem em cada categ\n",
    "df_count = df[\"Gênero\"].value_counts().reset_index() #value_counts() conta quantas vezes o genero aparece, reset_index() transforma a contagem em um dataframe novo\n",
    "df_count.columns = [\"Gênero\", \"Quantidade\"] #renomeia as colunas\n",
    "print(df_count)"
   ]
  },
  {
   "cell_type": "code",
   "execution_count": 20,
   "id": "36116eef-6c25-483c-b136-eb0d0afddc29",
   "metadata": {},
   "outputs": [],
   "source": [
    "#layout do dashboar\n",
    "app.layout = html.Div([\n",
    "    html.H1(\"📚 Dashboard de Gêneros Literários Mais Lidos no Brasil\", style={'textAlign': 'center'}),\n",
    "\n",
    "    # Gráfico de barras\n",
    "    dcc.Graph(id=\"grafico_generos\"),\n",
    "\n",
    "    # Dropdown para filtrar livros por gênero\n",
    "    dcc.Dropdown(\n",
    "        id=\"filtro_genero\",\n",
    "        options=[{\"label\": genero, \"value\": genero} for genero in df[\"Gênero\"].unique()],\n",
    "        value=df[\"Gênero\"].unique()[0],  # Valor inicial\n",
    "        clearable=False,\n",
    "    ),\n",
    "\n",
    "    # Tabela de livros\n",
    "    html.Div(id=\"tabela_livros\")\n",
    "])"
   ]
  },
  {
   "cell_type": "code",
   "execution_count": 21,
   "id": "469a255e-dd90-45f2-a8ac-87a0ff55c13d",
   "metadata": {},
   "outputs": [
    {
     "data": {
      "text/plain": [
       "Div(id='tabela_livros')"
      ]
     },
     "execution_count": 21,
     "metadata": {},
     "output_type": "execute_result"
    }
   ],
   "source": [
    "dcc.Dropdown( #cria um menu suspenso com as opções de genero\n",
    "    id=\"filtro_genero\", \n",
    "    options =[{\"label\": genero, \"value\": genero} for genero in df[\"Gênero\"].unique()], #cria as opções no dropdown\n",
    "    value=df[\"Gênero\"].unique()[0], #faz o primeiro genero da lista o valor inicial 0\n",
    "    clearable=False, #faz sempre precisar de um valor\n",
    "    ),\n",
    "    #tabela de livros\n",
    "html.Div(id=\"tabela_livros\") #espaço vazio onde vai ser adicionado uma tabela com os generos escolhidos"
   ]
  },
  {
   "cell_type": "code",
   "execution_count": 22,
   "id": "0df96ac1-490d-4cb6-a6e3-d96a86481e2f",
   "metadata": {},
   "outputs": [
    {
     "data": {
      "text/html": [
       "\n",
       "        <iframe\n",
       "            width=\"100%\"\n",
       "            height=\"650\"\n",
       "            src=\"http://127.0.0.1:8050/\"\n",
       "            frameborder=\"0\"\n",
       "            allowfullscreen\n",
       "            \n",
       "        ></iframe>\n",
       "        "
      ],
      "text/plain": [
       "<IPython.lib.display.IFrame at 0x77b7c9a0b950>"
      ]
     },
     "metadata": {},
     "output_type": "display_data"
    }
   ],
   "source": [
    "# Callback para atualizar gráfico e tabela\n",
    "@app.callback(\n",
    "    Output(\"grafico_generos\", \"figure\"),\n",
    "    Output(\"tabela_livros\", \"children\"),\n",
    "    Input(\"filtro_genero\", \"value\")\n",
    ")\n",
    "def atualizar_dashboard(genero_selecionado):\n",
    "    # Atualizar gráfico\n",
    "    fig = px.bar(df_count, x=\"Gênero\", y=\"Quantidade\", text=\"Quantidade\",\n",
    "                 title=\"Livros Mais Lidos por Gênero\", color=\"Gênero\")\n",
    "\n",
    "    # Filtrar tabela pelo gênero selecionado\n",
    "    df_filtrado = df[df[\"Gênero\"] == genero_selecionado]\n",
    "    tabela = html.Table([\n",
    "        html.Thead(html.Tr([html.Th(\"Título\"), html.Th(\"Autor\")])),\n",
    "        html.Tbody([html.Tr([html.Td(row[\"Título\"]), html.Td(row[\"Autor\"])]) for _, row in df_filtrado.iterrows()])\n",
    "    ])\n",
    "\n",
    "    return fig, tabela\n",
    "\n",
    "# Rodar o app no JupyterLab\n",
    "app.run_server(mode=\"inline\")"
   ]
  },
  {
   "cell_type": "code",
   "execution_count": 23,
   "id": "0052d01a-eb19-4dfe-a418-fe2d97852ac6",
   "metadata": {},
   "outputs": [
    {
     "name": "stdout",
     "output_type": "stream",
     "text": [
      "Index(['Título', 'Gênero', 'Autor'], dtype='object')\n"
     ]
    }
   ],
   "source": [
    "print(df.columns)  # Mostra todas as colunas do DataFrame\n"
   ]
  },
  {
   "cell_type": "code",
   "execution_count": 24,
   "id": "2b34df6b-ba21-41d2-8c01-8605e094eece",
   "metadata": {},
   "outputs": [
    {
     "name": "stdout",
     "output_type": "stream",
     "text": [
      "(50, 3)\n",
      "                               Título   Gênero          Autor\n",
      "0                        Future Shock  Fiction  Alvin Toffler\n",
      "1                    Ready Player Two  Fiction   Ernest Cline\n",
      "2                        Bag of Bones  Fiction   Stephen King\n",
      "3  Journey to the Center of the Earth  Fiction    Jules Verne\n",
      "4                    How to Stop Time  Fiction      Matt Haig\n"
     ]
    }
   ],
   "source": [
    "print(df.shape)  # Mostra o número de linhas e colunas\n",
    "print(df.head())  # Exibe as primeiras linhas do DataFrame\n"
   ]
  },
  {
   "cell_type": "code",
   "execution_count": null,
   "id": "27d6f032-56fd-4cf3-99c9-51ed629d0085",
   "metadata": {},
   "outputs": [],
   "source": []
  }
 ],
 "metadata": {
  "kernelspec": {
   "display_name": "Python 3 (ipykernel)",
   "language": "python",
   "name": "python3"
  },
  "language_info": {
   "codemirror_mode": {
    "name": "ipython",
    "version": 3
   },
   "file_extension": ".py",
   "mimetype": "text/x-python",
   "name": "python",
   "nbconvert_exporter": "python",
   "pygments_lexer": "ipython3",
   "version": "3.12.7"
  }
 },
 "nbformat": 4,
 "nbformat_minor": 5
}
